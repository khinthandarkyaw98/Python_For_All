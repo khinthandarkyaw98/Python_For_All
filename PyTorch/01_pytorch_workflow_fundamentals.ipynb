{
  "nbformat": 4,
  "nbformat_minor": 0,
  "metadata": {
    "colab": {
      "provenance": []
    },
    "kernelspec": {
      "name": "python3",
      "display_name": "Python 3"
    },
    "language_info": {
      "name": "python"
    },
    "accelerator": "GPU",
    "gpuClass": "standard"
  },
  "cells": [
    {
      "cell_type": "markdown",
      "source": [
        "# 01. PyTorch Workflow Fundamentals\n",
        "\n",
        "Resource notebook : https://www.learnpytorch.io/01_pytorch_workflow/\n",
        "\n",
        "Lecture Video : https://www.youtube.com/watch?v=V_xro1bcAuA\n",
        "\n",
        "Discussion Group : https://github.com/mrdbourke/pytorch-deep-learning/discussions\n",
        "\n",
        "\n",
        "Created by : `KHIN THANDAR KYAW [30 Apr 2023]`"
      ],
      "metadata": {
        "id": "MENFcLfkizKF"
      }
    },
    {
      "cell_type": "markdown",
      "source": [
        "`Coral's Note` \n",
        "___\n",
        "We have inputs. To get outputs, we have the particular weights and biases. This is for the target case.\n",
        "\n",
        "For the case of prediction, the neural network will take care of it.\n",
        "So, input which is not random but in specific values will be fed into the neural network. Weights and biases exist in the neural network and are randomly initialized. These randomized weights and biases along with definite input will produce the prediction (output) values. \n",
        "\n",
        "Then, the loss function (difference) of the target and the prediction values will be measured.\n",
        "\n",
        "With this being said, we will know how many weights and biases should be increased or decreased by derivating the loss function in terms of weights and biases.\n",
        "\n",
        "```\n",
        "weight = weight - learning_rate * weight_gradient\n",
        "```\n",
        "```\n",
        "bias = bias - learning_rate * bias_gradient\n",
        "```\n",
        "\n",
        "Then, increasing or decreasing these values will be conducted till the vlaues of predictions are equal to those of the target values."
      ],
      "metadata": {
        "id": "eSTUoA9iBS3O"
      }
    },
    {
      "cell_type": "markdown",
      "source": [
        "![PyTorch Workflow](https://raw.githubusercontent.com/mrdbourke/pytorch-deep-learning/main/images/01_a_pytorch_workflow.png)"
      ],
      "metadata": {
        "id": "-cXitr5-lh2B"
      }
    },
    {
      "cell_type": "code",
      "source": [
        "# PyTorch Workflow\n",
        "\n",
        "# Let's explore an example PyTorch end-to-end workflow.\n",
        "\n",
        "what_were_covering = {1: \"data (prepare and load)\",\n",
        "                      2: \"build model\", \n",
        "                      3: \"fitting the model to data (training)\",\n",
        "                      4: \"making predictions and evaluting a model (inference)\",\n",
        "                      5: \"saving and loading a model\",\n",
        "                      6: \"putting it all togther\"}\n",
        "what_were_covering"
      ],
      "metadata": {
        "colab": {
          "base_uri": "https://localhost:8080/"
        },
        "id": "7LnR_E7SmH3G",
        "outputId": "c21ae095-a14d-4715-c0d1-12c8873b8891"
      },
      "execution_count": 1,
      "outputs": [
        {
          "output_type": "execute_result",
          "data": {
            "text/plain": [
              "{1: 'data (prepare and load)',\n",
              " 2: 'build model',\n",
              " 3: 'fitting the model to data (training)',\n",
              " 4: 'making predictions and evaluting a model (inference)',\n",
              " 5: 'saving and loading a model',\n",
              " 6: 'putting it all togther'}"
            ]
          },
          "metadata": {},
          "execution_count": 1
        }
      ]
    },
    {
      "cell_type": "markdown",
      "source": [
        "### Torch NN \n",
        "\n",
        "https://pytorch.org/docs/stable/nn.html"
      ],
      "metadata": {
        "id": "9AnqcnXzmyjq"
      }
    },
    {
      "cell_type": "code",
      "source": [
        "import torch\n",
        "from torch import nn # nn contains all of PyTorch's building blocs for neural networks\n",
        "import matplotlib.pyplot as plt\n",
        "\n",
        "# Check PyTorch version\n",
        "torch.__version__"
      ],
      "metadata": {
        "colab": {
          "base_uri": "https://localhost:8080/",
          "height": 35
        },
        "id": "fwTatUcdmIl4",
        "outputId": "e6b2e16a-8ef8-47f7-c811-405b30d98a9b"
      },
      "execution_count": 2,
      "outputs": [
        {
          "output_type": "execute_result",
          "data": {
            "text/plain": [
              "'2.0.0+cu118'"
            ],
            "application/vnd.google.colaboratory.intrinsic+json": {
              "type": "string"
            }
          },
          "metadata": {},
          "execution_count": 2
        }
      ]
    },
    {
      "cell_type": "markdown",
      "source": [
        "## 1. Data (preparing and loading)\n",
        "\n",
        "Data can be almost anything. . . in machine leanring.\n",
        "\n",
        "* Excel spreadsheet\n",
        "* Images of any kind\n",
        "* Videos (YouTube has lots of data. . . )\n",
        "* Audio like songs or podcasts\n",
        "* DNA\n",
        "* Text\n",
        "\n",
        "Machine learning is a game of two parts:\n",
        "1. Get data into a numerical representation.\n",
        "2. Build a model to learn patterns in that numerical representations.\n",
        "\n",
        "![Machine Learning in two parts](https://raw.githubusercontent.com/mrdbourke/pytorch-deep-learning/main/images/01-machine-learning-a-game-of-two-parts.png)"
      ],
      "metadata": {
        "id": "j_DeXfaqnANr"
      }
    },
    {
      "cell_type": "markdown",
      "source": [
        "To showcase this, let's create some *known* data using the linear regression formula.\n",
        "\n",
        "We'll use a linear regression formula to make a straight line with known **parameters**."
      ],
      "metadata": {
        "id": "q5WHn4QanMo9"
      }
    },
    {
      "cell_type": "code",
      "source": [
        "# Create *known* parameters\n",
        "weight = 0.7 \n",
        "bias = 0.3\n",
        "\n",
        "# Create data\n",
        "start = 0\n",
        "end = 1\n",
        "step = 0.02\n",
        "X = torch.arange(start, end, step).unsqueeze(dim=1) # unsqueeze : add a 1 dimension\n",
        "y = weight * X + bias # regression formula\n",
        "\n",
        "X[:10], y[:10]"
      ],
      "metadata": {
        "colab": {
          "base_uri": "https://localhost:8080/"
        },
        "id": "WOI1GP4LorMq",
        "outputId": "e1462d52-9a09-484c-e33b-297ced7282ca"
      },
      "execution_count": 3,
      "outputs": [
        {
          "output_type": "execute_result",
          "data": {
            "text/plain": [
              "(tensor([[0.0000],\n",
              "         [0.0200],\n",
              "         [0.0400],\n",
              "         [0.0600],\n",
              "         [0.0800],\n",
              "         [0.1000],\n",
              "         [0.1200],\n",
              "         [0.1400],\n",
              "         [0.1600],\n",
              "         [0.1800]]),\n",
              " tensor([[0.3000],\n",
              "         [0.3140],\n",
              "         [0.3280],\n",
              "         [0.3420],\n",
              "         [0.3560],\n",
              "         [0.3700],\n",
              "         [0.3840],\n",
              "         [0.3980],\n",
              "         [0.4120],\n",
              "         [0.4260]]))"
            ]
          },
          "metadata": {},
          "execution_count": 3
        }
      ]
    },
    {
      "cell_type": "code",
      "source": [
        "len(X), len(y)"
      ],
      "metadata": {
        "colab": {
          "base_uri": "https://localhost:8080/"
        },
        "id": "LoruLzT9plwZ",
        "outputId": "04f43725-9113-476d-bcd3-870ca6cbfa3f"
      },
      "execution_count": 4,
      "outputs": [
        {
          "output_type": "execute_result",
          "data": {
            "text/plain": [
              "(50, 50)"
            ]
          },
          "metadata": {},
          "execution_count": 4
        }
      ]
    },
    {
      "cell_type": "markdown",
      "source": [
        "### Splitting data into training and test sets (one of the most important concepts in machine learning in general)\n",
        "\n",
        "There are 3 datasets.\n",
        "* Training Set (Course machine) : 60~80 %\n",
        "* Validation Set (Practice exam) : 10~20%\n",
        "* Test Set (Final exam) : 10~20 %\n",
        "\n",
        "\n",
        "#### Generalization\n",
        "\n",
        "The ability for a machine learning model to perform well on data it hasn't seen before."
      ],
      "metadata": {
        "id": "YddDlgNwprab"
      }
    },
    {
      "cell_type": "markdown",
      "source": [
        "#### Let's create a training and test set with our data."
      ],
      "metadata": {
        "id": "F6GHTwJxsgUu"
      }
    },
    {
      "cell_type": "code",
      "source": [
        "# Create a train/test split\n",
        "train_split = int(0.8 * len(X))\n",
        "X_train, y_train = X[:train_split], y[:train_split]\n",
        "X_test, y_test = X[train_split:], y[train_split:]\n",
        "\n",
        "len(X_train), len(y_train), len(X_test), len(y_test)"
      ],
      "metadata": {
        "colab": {
          "base_uri": "https://localhost:8080/"
        },
        "id": "16k3dGBns4k_",
        "outputId": "29e47344-3b20-45b4-edda-4bd1f960d7ef"
      },
      "execution_count": 5,
      "outputs": [
        {
          "output_type": "execute_result",
          "data": {
            "text/plain": [
              "(40, 40, 10, 10)"
            ]
          },
          "metadata": {},
          "execution_count": 5
        }
      ]
    },
    {
      "cell_type": "markdown",
      "source": [
        "How might we better visualize our data?\n",
        "\n",
        "This is where the data explorer's motto comes in!\n",
        "\n",
        "\"Visualize, visulize, visualize!\""
      ],
      "metadata": {
        "id": "NTATLSG_tUMP"
      }
    },
    {
      "cell_type": "code",
      "source": [
        "def plot_predictions(train_data=X_train, \n",
        "                     train_labels=y_train, \n",
        "                     test_data=X_test, \n",
        "                     test_labels=y_test, \n",
        "                     predictions=None):\n",
        "  \"\"\"\n",
        "  Plots training data, test data and compares predictions.\n",
        "  \"\"\"\n",
        "  plt.figure(figsize=(10, 7))\n",
        "\n",
        "  # Plot training data in blue\n",
        "  plt.scatter(train_data, train_labels, c=\"b\", s=4, label=\"Training data\")\n",
        "  \n",
        "  # Plot test data in green\n",
        "  plt.scatter(test_data, test_labels, c=\"g\", s=4, label=\"Testing data\")\n",
        "\n",
        "  if predictions is not None:\n",
        "    # Plot the predictions in red (predictions were made on the test data)\n",
        "    plt.scatter(test_data, predictions, c=\"r\", s=4, label=\"Predictions\")\n",
        "\n",
        "  # Show the legend\n",
        "  plt.legend(prop={\"size\": 14});"
      ],
      "metadata": {
        "id": "ozqZuU7Ntia7"
      },
      "execution_count": 6,
      "outputs": []
    },
    {
      "cell_type": "code",
      "source": [
        "plot_predictions()"
      ],
      "metadata": {
        "colab": {
          "base_uri": "https://localhost:8080/",
          "height": 460
        },
        "id": "ct6XkubsuBhF",
        "outputId": "d3bc73b8-b651-4d39-b419-45a2da65e22d"
      },
      "execution_count": 7,
      "outputs": [
        {
          "output_type": "display_data",
          "data": {
            "text/plain": [
              "<Figure size 1000x700 with 1 Axes>"
            ],
            "image/png": "[encoded data removed]"
          },
          "metadata": {}
        }
      ]
    },
    {
      "cell_type": "markdown",
      "source": [
        "## 2. Build model\n",
        "\n",
        "Our first PyTorch Model!\n",
        "\n",
        "This is very exciting ... let's do it!\n",
        "\n",
        "Because we're going to be building classes throughout the course, the orignial author `mrdbourke` recommends to refer https://realpython.com/python3-object-oriented-programming/\n",
        "\n",
        "What our model does:\n",
        "* Start with random values (weights & bias)\n",
        "* Look at training data and adjust the random values to better represent (or get closer to) the ideal values (the weight & bias values we used to create the data)\n",
        "\n",
        "How does it do so?\n",
        "\n",
        "Through two main algorithms:\n",
        "1. Gradient descent\n",
        "2. Backpropagation"
      ],
      "metadata": {
        "id": "mpZW0XarvfQf"
      }
    },
    {
      "cell_type": "code",
      "source": [
        "from torch import nn \n",
        "\n",
        "# Create linear regression model clas\n",
        "class LinearRegressionModel(nn.Module): # <- almost everything in PyTorch inherits nn.Module\n",
        "  def __init__(self):\n",
        "    super().__init__()\n",
        "\n",
        "    # Initialize model paramters\n",
        "    self.weights = nn.Parameter(torch.rand(1, # <- start with a random weight and try to adjust it to the ideal weight\n",
        "                                           requires_grad=True, # <- can this parameter be updated via gradient descent?\n",
        "                                           dtype=torch.float)) # <- PyTorch loves the datatype torch.float32\n",
        "    \n",
        "    self.bias = nn.Parameter(torch.rand(1, # <- start with a random bias and try to adjust it to the ideal bias\n",
        "                                        requires_grad=True, # <- can this parameter be updated via gradient descent?\n",
        "                                        dtype=torch.float)) # <- PyTorch loves the datatype torch.float32\n",
        "    \n",
        "  # Forward method to define the computation in the model\n",
        "  def forward(self, x:torch.Tensor) -> torch.Tensor: # <- \"x\" is the input tensor\n",
        "    return self.weights * x + self.bias # this is the linear regression"
      ],
      "metadata": {
        "id": "hg5tpbvd76Vp"
      },
      "execution_count": 8,
      "outputs": []
    },
    {
      "cell_type": "markdown",
      "source": [
        "### PyTorch model building essentials\n",
        "\n",
        "* torch.nn - contains all of the buildings for computational grpahs (a neural network can be considered as a computational graph)\n",
        "* torch.nn.Paramter - what parameters would our model try and learn, often a PyTorch layer from torch.nn will set these for us\n",
        "* torch.nn.Module - The base class for all neural network modules, if you subcalss it, you should overwrite forward()\n",
        "* torch.optim - this where the optimizers in PyTorch live, they will help with gradient descent\n",
        "* def forward() - All nn.Module subclasses require you to overwrite forward(), this method defines what happens in the forward computation\n",
        "\n",
        "PyTorch cheatsheet : https://pytorch.org/tutorials/beginner/ptcheat.html"
      ],
      "metadata": {
        "id": "Oo3P8xDw--Xw"
      }
    },
    {
      "cell_type": "markdown",
      "source": [
        "### Checking the contents of our PyTorch model\n",
        "\n",
        "Now we've created a model, let's see what's inside...\n",
        "\n",
        "So we can check our model parameters or what's inside our model using `.parameters()`"
      ],
      "metadata": {
        "id": "4PCmiVVF1Pcr"
      }
    },
    {
      "cell_type": "code",
      "source": [
        "# Create a random seed\n",
        "torch.manual_seed(30)\n",
        "\n",
        "# Create an instance of the model (this is a subclass of nn.Module)\n",
        "model_0 = LinearRegressionModel()\n",
        "\n",
        "# Check out the parameters\n",
        "list(model_0.parameters())"
      ],
      "metadata": {
        "colab": {
          "base_uri": "https://localhost:8080/"
        },
        "id": "Swf2u7Dk12fv",
        "outputId": "3cab9aca-0c7c-4bb9-aad9-08cfd1a1204e"
      },
      "execution_count": 9,
      "outputs": [
        {
          "output_type": "execute_result",
          "data": {
            "text/plain": [
              "[Parameter containing:\n",
              " tensor([0.9007], requires_grad=True),\n",
              " Parameter containing:\n",
              " tensor([0.7464], requires_grad=True)]"
            ]
          },
          "metadata": {},
          "execution_count": 9
        }
      ]
    },
    {
      "cell_type": "code",
      "source": [
        "# List named parameters\n",
        "model_0.state_dict()"
      ],
      "metadata": {
        "colab": {
          "base_uri": "https://localhost:8080/"
        },
        "id": "knn_GD7n2IA7",
        "outputId": "32705910-5818-4f6e-d86e-debee5212234"
      },
      "execution_count": 10,
      "outputs": [
        {
          "output_type": "execute_result",
          "data": {
            "text/plain": [
              "OrderedDict([('weights', tensor([0.9007])), ('bias', tensor([0.7464]))])"
            ]
          },
          "metadata": {},
          "execution_count": 10
        }
      ]
    },
    {
      "cell_type": "code",
      "source": [
        "weight, bias"
      ],
      "metadata": {
        "colab": {
          "base_uri": "https://localhost:8080/"
        },
        "id": "nLg16L9x3HEH",
        "outputId": "104e6029-497d-4b2e-bb8c-14875a67d757"
      },
      "execution_count": 11,
      "outputs": [
        {
          "output_type": "execute_result",
          "data": {
            "text/plain": [
              "(0.7, 0.3)"
            ]
          },
          "metadata": {},
          "execution_count": 11
        }
      ]
    },
    {
      "cell_type": "markdown",
      "source": [
        "### Making prediction using `torch.inference_mode()`\n",
        "\n",
        "\n",
        "To check our model's predictive power, let's see how well it predicts `y_test` based on `x_test`.\n",
        "\n",
        "When we pass data through our model, it's going to run it through the forward() method."
      ],
      "metadata": {
        "id": "dxyWp9iX3Tnf"
      }
    },
    {
      "cell_type": "code",
      "source": [
        "X_test, y_test"
      ],
      "metadata": {
        "colab": {
          "base_uri": "https://localhost:8080/"
        },
        "id": "gVbpbdbn4jiX",
        "outputId": "22d111f7-064e-42fd-db10-9d9b4b10d0fe"
      },
      "execution_count": 12,
      "outputs": [
        {
          "output_type": "execute_result",
          "data": {
            "text/plain": [
              "(tensor([[0.8000],\n",
              "         [0.8200],\n",
              "         [0.8400],\n",
              "         [0.8600],\n",
              "         [0.8800],\n",
              "         [0.9000],\n",
              "         [0.9200],\n",
              "         [0.9400],\n",
              "         [0.9600],\n",
              "         [0.9800]]),\n",
              " tensor([[0.8600],\n",
              "         [0.8740],\n",
              "         [0.8880],\n",
              "         [0.9020],\n",
              "         [0.9160],\n",
              "         [0.9300],\n",
              "         [0.9440],\n",
              "         [0.9580],\n",
              "         [0.9720],\n",
              "         [0.9860]]))"
            ]
          },
          "metadata": {},
          "execution_count": 12
        }
      ]
    },
    {
      "cell_type": "code",
      "source": [
        "y_preds = model_0(X_test)\n",
        "y_preds"
      ],
      "metadata": {
        "colab": {
          "base_uri": "https://localhost:8080/"
        },
        "id": "COg3jdU-5dEZ",
        "outputId": "ea530515-0f78-4db0-ba6e-7ebbbada4226"
      },
      "execution_count": 13,
      "outputs": [
        {
          "output_type": "execute_result",
          "data": {
            "text/plain": [
              "tensor([[1.4670],\n",
              "        [1.4850],\n",
              "        [1.5030],\n",
              "        [1.5210],\n",
              "        [1.5390],\n",
              "        [1.5570],\n",
              "        [1.5750],\n",
              "        [1.5931],\n",
              "        [1.6111],\n",
              "        [1.6291]], grad_fn=<AddBackward0>)"
            ]
          },
          "metadata": {},
          "execution_count": 13
        }
      ]
    },
    {
      "cell_type": "code",
      "source": [
        "# Make predictions with model\n",
        "%%time\n",
        "with torch.inference_mode(): # turn_off the gradient tracking (in larger dataset, it is much faster)\n",
        "  y_preds = model_0(X_test)\n",
        "\n",
        "y_preds"
      ],
      "metadata": {
        "colab": {
          "base_uri": "https://localhost:8080/"
        },
        "id": "5nkte3yu4LZA",
        "outputId": "12554b4f-7e92-44d8-d4b7-009ac5536f78"
      },
      "execution_count": 14,
      "outputs": [
        {
          "output_type": "stream",
          "name": "stdout",
          "text": [
            "CPU times: user 0 ns, sys: 728 µs, total: 728 µs\n",
            "Wall time: 600 µs\n"
          ]
        },
        {
          "output_type": "execute_result",
          "data": {
            "text/plain": [
              "tensor([[1.4670],\n",
              "        [1.4850],\n",
              "        [1.5030],\n",
              "        [1.5210],\n",
              "        [1.5390],\n",
              "        [1.5570],\n",
              "        [1.5750],\n",
              "        [1.5931],\n",
              "        [1.6111],\n",
              "        [1.6291]])"
            ]
          },
          "metadata": {},
          "execution_count": 14
        }
      ]
    },
    {
      "cell_type": "code",
      "source": [
        "# You can also do something similar with torch.no_grad(), however, inference_node() is prefered\n",
        "%%time\n",
        "with torch.no_grad():\n",
        "  y_preds = model_0(X_test)\n",
        "\n",
        "y_preds"
      ],
      "metadata": {
        "colab": {
          "base_uri": "https://localhost:8080/"
        },
        "id": "SJt8Ubyz6Mqr",
        "outputId": "c426aab7-bb7a-4507-bbf5-4ba071fdcb4e"
      },
      "execution_count": 15,
      "outputs": [
        {
          "output_type": "stream",
          "name": "stdout",
          "text": [
            "CPU times: user 845 µs, sys: 162 µs, total: 1.01 ms\n",
            "Wall time: 2.28 ms\n"
          ]
        },
        {
          "output_type": "execute_result",
          "data": {
            "text/plain": [
              "tensor([[1.4670],\n",
              "        [1.4850],\n",
              "        [1.5030],\n",
              "        [1.5210],\n",
              "        [1.5390],\n",
              "        [1.5570],\n",
              "        [1.5750],\n",
              "        [1.5931],\n",
              "        [1.6111],\n",
              "        [1.6291]])"
            ]
          },
          "metadata": {},
          "execution_count": 15
        }
      ]
    },
    {
      "cell_type": "code",
      "source": [
        "y_test"
      ],
      "metadata": {
        "colab": {
          "base_uri": "https://localhost:8080/"
        },
        "id": "rFQpnZ_24pbX",
        "outputId": "18467fa6-e160-47b8-ef7b-2b4b90b041e1"
      },
      "execution_count": 16,
      "outputs": [
        {
          "output_type": "execute_result",
          "data": {
            "text/plain": [
              "tensor([[0.8600],\n",
              "        [0.8740],\n",
              "        [0.8880],\n",
              "        [0.9020],\n",
              "        [0.9160],\n",
              "        [0.9300],\n",
              "        [0.9440],\n",
              "        [0.9580],\n",
              "        [0.9720],\n",
              "        [0.9860]])"
            ]
          },
          "metadata": {},
          "execution_count": 16
        }
      ]
    },
    {
      "cell_type": "code",
      "source": [
        "plot_predictions(predictions=y_preds)"
      ],
      "metadata": {
        "colab": {
          "base_uri": "https://localhost:8080/",
          "height": 460
        },
        "id": "AaMbL2kS5LJF",
        "outputId": "9d12d8da-c57d-4370-e7c5-a1654dabf4a3"
      },
      "execution_count": 17,
      "outputs": [
        {
          "output_type": "display_data",
          "data": {
            "text/plain": [
              "<Figure size 1000x700 with 1 Axes>"
            ],
            "image/png": "[encoded data removed]"
          },
          "metadata": {}
        }
      ]
    },
    {
      "cell_type": "markdown",
      "source": [
        "## 3. Train model\n",
        "\n",
        "The whole idea of training is for a model to move from some *unkown* parameters (these may be random) to some *known* parameters.\n",
        "\n",
        "Or in other words, from a poor representation of the data to a better representation of the data\n",
        "\n",
        "One way to measure how poor or how wrong your models predictions are is to use a loss function.\n",
        "\n",
        "* Note: Loss function may also be called cost function or criterion in different areas. For our case, we're going to refer to it as a loss function.\n",
        "\n",
        "* **Loss function:** A function to measure how wrong your model's predictions are to the ideal outputs, lower is better.\n",
        "\n",
        "* **Optimizer:** Takes into account the loss of a model and adjusts the model's parameters (e.g. weight & bias in our case) to improve the loss function.\n",
        "\n",
        "  * Inside the optimizer, you'll often have to set two parameters.\n",
        "    * `params` - the model parameters you'd like to optimize, for example `params=model_0.parameters()`\n",
        "    * `lr` (learning rate) - the learning rate is a hyperparameter that defines how big/small the optimzer changes the paramters with each step (a small `lr` results in small changes, a large `lr` results in large changes)\n",
        "\n",
        "And specifically for PyTorch, we need:\n",
        "* A training loop\n",
        "* A testing loop"
      ],
      "metadata": {
        "id": "z4BDbf-o5Xpn"
      }
    },
    {
      "cell_type": "code",
      "source": [
        "list(model_0.parameters())"
      ],
      "metadata": {
        "colab": {
          "base_uri": "https://localhost:8080/"
        },
        "id": "Me39KHCL__EM",
        "outputId": "18c0b914-cabf-4545-bf22-48a4e5ae90f3"
      },
      "execution_count": 18,
      "outputs": [
        {
          "output_type": "execute_result",
          "data": {
            "text/plain": [
              "[Parameter containing:\n",
              " tensor([0.9007], requires_grad=True),\n",
              " Parameter containing:\n",
              " tensor([0.7464], requires_grad=True)]"
            ]
          },
          "metadata": {},
          "execution_count": 18
        }
      ]
    },
    {
      "cell_type": "code",
      "source": [
        "# Check out our model's parameters (a parameter is a value that the model sets itself)\n",
        "model_0.state_dict()"
      ],
      "metadata": {
        "colab": {
          "base_uri": "https://localhost:8080/"
        },
        "id": "_hknHz2rDbCF",
        "outputId": "5a5de2f9-28b8-408f-f28d-2d0f2ba380af"
      },
      "execution_count": 19,
      "outputs": [
        {
          "output_type": "execute_result",
          "data": {
            "text/plain": [
              "OrderedDict([('weights', tensor([0.9007])), ('bias', tensor([0.7464]))])"
            ]
          },
          "metadata": {},
          "execution_count": 19
        }
      ]
    },
    {
      "cell_type": "markdown",
      "source": [
        "![L1Loss](https://camo.githubusercontent.com/07dc8223af5524a8f4ad16c51ffb1f9953cb1783ee796d5120108ee291348e08/68747470733a2f2f7261772e67697468756275736572636f6e74656e742e636f6d2f6d7264626f75726b652f7079746f7263682d646565702d6c6561726e696e672f6d61696e2f696d616765732f30312d6d61652d6c6f73732d616e6e6f74617465642e706e67)"
      ],
      "metadata": {
        "id": "UJbOg1iCFfW6"
      }
    },
    {
      "cell_type": "code",
      "source": [
        "# Setup a loss function : measure how wrong our model is\n",
        "loss_fn = nn.L1Loss()\n",
        "\n",
        "# Setup an optimizer (stochastic gradient descent) : adjust parameters of our model to get the smallest loss \n",
        "# the smaller the learing rate, the smaller the change in parameters\n",
        "optimizer = torch.optim.SGD(params=model_0.parameters(),\n",
        "                            lr=0.01) # lr = learning_rate = possibly the most important hyperparameter you can set"
      ],
      "metadata": {
        "id": "1sJU-CPHDgln"
      },
      "execution_count": 20,
      "outputs": []
    },
    {
      "cell_type": "markdown",
      "source": [
        "### Building a training loop (and a testing loop) in PyTorch\n",
        "\n",
        "A couple of things we need in a training loop:\n",
        "0. Loop through the data\n",
        "1. Forward pass (this involves data moving through our model's `forward()` to make predictions on data- also called forward propagation\n",
        "2. Calculate the loss (compare forward pass predictions to ground truth labels)\n",
        "3. Optimizer zero grad\n",
        "4. Loss backward - move backwards through the network to calculate the gradients of each of the parameters of our model with respect to the loss (**backpropagation**)\n",
        "5. Optimizer step - use the optimizer to adjust our model's parameters to try and improve the loss (**gradient descent**)"
      ],
      "metadata": {
        "id": "jlYHJ_ciFKAn"
      }
    },
    {
      "cell_type": "code",
      "source": [
        "list(model_0.eval().parameters())"
      ],
      "metadata": {
        "id": "RsFAGDvk4Ukd",
        "colab": {
          "base_uri": "https://localhost:8080/"
        },
        "outputId": "85468af4-9097-4540-db41-84d14833c819"
      },
      "execution_count": 21,
      "outputs": [
        {
          "output_type": "execute_result",
          "data": {
            "text/plain": [
              "[Parameter containing:\n",
              " tensor([0.9007], requires_grad=True),\n",
              " Parameter containing:\n",
              " tensor([0.7464], requires_grad=True)]"
            ]
          },
          "metadata": {},
          "execution_count": 21
        }
      ]
    },
    {
      "cell_type": "code",
      "source": [
        "list(model_0.parameters())"
      ],
      "metadata": {
        "colab": {
          "base_uri": "https://localhost:8080/"
        },
        "id": "GmXjg6NVsL5n",
        "outputId": "32cf13d5-8578-4a23-e5ab-f81c679042c9"
      },
      "execution_count": 22,
      "outputs": [
        {
          "output_type": "execute_result",
          "data": {
            "text/plain": [
              "[Parameter containing:\n",
              " tensor([0.9007], requires_grad=True),\n",
              " Parameter containing:\n",
              " tensor([0.7464], requires_grad=True)]"
            ]
          },
          "metadata": {},
          "execution_count": 22
        }
      ]
    },
    {
      "cell_type": "code",
      "source": [
        "with torch.no_grad():\n",
        "  list(model_0.parameters())"
      ],
      "metadata": {
        "id": "GP4Y67HctscV"
      },
      "execution_count": 23,
      "outputs": []
    },
    {
      "cell_type": "code",
      "source": [
        "# An epoch is one loop through the data...(this is a hyperparameter because we've set it ourselves)\n",
        "epochs = 200\n",
        "\n",
        "# Track different values\n",
        "# so we can compare our current expereince to the previous one\n",
        "epoch_count = []\n",
        "loss_values = []\n",
        "test_loss_values = []\n",
        "\n",
        "### Training \n",
        "# 0. Loop through the data\n",
        "for epoch in range(epochs):\n",
        "  # Set the model to training mode\n",
        "  model_0.train() # train mode in PyTorch sets all parameters that requrire gradients to require gradients\n",
        "\n",
        "  # 1. Forward pass\n",
        "  # pass the data through the model\n",
        "  # this will perform the `forward()` method located within the model object\n",
        "  y_pred = model_0(X_train)\n",
        "\n",
        "  # 2. Calculate the loss\n",
        "  # how wrong the model's predictions are\n",
        "  loss = loss_fn(y_pred, y_train) # loss(input,target)\n",
        "  #print(f\"Loss: {loss}\")\n",
        "\n",
        "  # 3. Optimizer zero grad\n",
        "  # Zero the gradients of the optimizer (they accumulate by default)\n",
        "  # zero them to start fresh each forward pass\n",
        "  optimizer.zero_grad() # set zero after one epoch\n",
        "\n",
        "  # 4. Perform backpropagation on the loss with respect to the parameters of the model\n",
        "  # with `requires_grad=True`\n",
        "  loss.backward()\n",
        "\n",
        "  # 5. Step the optimizer (perform gradient descent)\n",
        "  # update the model's parameters w.r.t the gradients calculated by loss.backward()\n",
        "  optimizer.step() # by default how the optimizer changes will accumulate through the loop so... we have to zero them above in step 3 for the next iteration of the loop\n",
        "\n",
        "  ### Testing\n",
        "  # in testing, we have to turn of gradient descent\n",
        "  # bc we just want to evaluate the model already trained\n",
        "  # we do not want to train the model using our test train\n",
        "  model_0.eval() # turns off different settings in the model not needed for evaluation/testing (dropout/batchnorm)\n",
        "  with torch.inference_mode(): # turns off gradient tracking & a couple more things behind the scene\n",
        "  # with torch.no_grad(): # you may also see torch.no_grad() in older PyTorch code\n",
        "    # 1. Do the forward pass\n",
        "    test_pred = model_0(X_test)\n",
        "\n",
        "    #2 . Calculate the loss\n",
        "    test_loss = loss_fn(test_pred, y_test)\n",
        "\n",
        "  # Print out what's happening\n",
        "  if epoch % 10 == 0: \n",
        "    epoch_count.append(epoch)\n",
        "    loss_values.append(loss)\n",
        "    test_loss_values.append(test_loss)\n",
        "    print(f\"Epoch: {epoch} | Loss: {loss} | Test loss: {test_loss}\")\n",
        "    # Print out model state_dict()\n",
        "    print(model_0.state_dict())"
      ],
      "metadata": {
        "id": "yTzBy5pn33y5",
        "colab": {
          "base_uri": "https://localhost:8080/"
        },
        "outputId": "08b50408-65fa-491c-d533-84d5525c2ee7"
      },
      "execution_count": 24,
      "outputs": [
        {
          "output_type": "stream",
          "name": "stdout",
          "text": [
            "Epoch: 0 | Loss: 0.5246530771255493 | Test loss: 0.611553966999054\n",
            "OrderedDict([('weights', tensor([0.8968])), ('bias', tensor([0.7364]))])\n",
            "Epoch: 10 | Loss: 0.4094432294368744 | Test loss: 0.4768441319465637\n",
            "OrderedDict([('weights', tensor([0.8578])), ('bias', tensor([0.6364]))])\n",
            "Epoch: 20 | Loss: 0.2942332923412323 | Test loss: 0.3421342968940735\n",
            "OrderedDict([('weights', tensor([0.8188])), ('bias', tensor([0.5364]))])\n",
            "Epoch: 30 | Loss: 0.17902342975139618 | Test loss: 0.20742449164390564\n",
            "OrderedDict([('weights', tensor([0.7798])), ('bias', tensor([0.4364]))])\n",
            "Epoch: 40 | Loss: 0.06381357461214066 | Test loss: 0.07271464914083481\n",
            "OrderedDict([('weights', tensor([0.7408])), ('bias', tensor([0.3364]))])\n",
            "Epoch: 50 | Loss: 0.003018368734046817 | Test loss: 0.00616843719035387\n",
            "OrderedDict([('weights', tensor([0.7133])), ('bias', tensor([0.2944]))])\n",
            "Epoch: 60 | Loss: 0.00915967021137476 | Test loss: 0.0005557596450671554\n",
            "OrderedDict([('weights', tensor([0.7058])), ('bias', tensor([0.2954]))])\n",
            "Epoch: 70 | Loss: 0.00915967021137476 | Test loss: 0.0005557596450671554\n",
            "OrderedDict([('weights', tensor([0.7058])), ('bias', tensor([0.2954]))])\n",
            "Epoch: 80 | Loss: 0.00915967021137476 | Test loss: 0.0005557596450671554\n",
            "OrderedDict([('weights', tensor([0.7058])), ('bias', tensor([0.2954]))])\n",
            "Epoch: 90 | Loss: 0.00915967021137476 | Test loss: 0.0005557596450671554\n",
            "OrderedDict([('weights', tensor([0.7058])), ('bias', tensor([0.2954]))])\n",
            "Epoch: 100 | Loss: 0.00915967021137476 | Test loss: 0.0005557596450671554\n",
            "OrderedDict([('weights', tensor([0.7058])), ('bias', tensor([0.2954]))])\n",
            "Epoch: 110 | Loss: 0.00915967021137476 | Test loss: 0.0005557596450671554\n",
            "OrderedDict([('weights', tensor([0.7058])), ('bias', tensor([0.2954]))])\n",
            "Epoch: 120 | Loss: 0.00915967021137476 | Test loss: 0.0005557596450671554\n",
            "OrderedDict([('weights', tensor([0.7058])), ('bias', tensor([0.2954]))])\n",
            "Epoch: 130 | Loss: 0.00915967021137476 | Test loss: 0.0005557596450671554\n",
            "OrderedDict([('weights', tensor([0.7058])), ('bias', tensor([0.2954]))])\n",
            "Epoch: 140 | Loss: 0.00915967021137476 | Test loss: 0.0005557596450671554\n",
            "OrderedDict([('weights', tensor([0.7058])), ('bias', tensor([0.2954]))])\n",
            "Epoch: 150 | Loss: 0.00915967021137476 | Test loss: 0.0005557596450671554\n",
            "OrderedDict([('weights', tensor([0.7058])), ('bias', tensor([0.2954]))])\n",
            "Epoch: 160 | Loss: 0.00915967021137476 | Test loss: 0.0005557596450671554\n",
            "OrderedDict([('weights', tensor([0.7058])), ('bias', tensor([0.2954]))])\n",
            "Epoch: 170 | Loss: 0.00915967021137476 | Test loss: 0.0005557596450671554\n",
            "OrderedDict([('weights', tensor([0.7058])), ('bias', tensor([0.2954]))])\n",
            "Epoch: 180 | Loss: 0.00915967021137476 | Test loss: 0.0005557596450671554\n",
            "OrderedDict([('weights', tensor([0.7058])), ('bias', tensor([0.2954]))])\n",
            "Epoch: 190 | Loss: 0.00915967021137476 | Test loss: 0.0005557596450671554\n",
            "OrderedDict([('weights', tensor([0.7058])), ('bias', tensor([0.2954]))])\n"
          ]
        }
      ]
    },
    {
      "cell_type": "markdown",
      "source": [
        "**Q:** Which loss function and optimizer should I use?\n",
        "\n",
        "**A:** This will be problem specific. But with experience, you'll get an idea of what works and what doesn't with your particular problem set.\n",
        "\n",
        "For example, for a regression problem (like ours), a loss function of `nn.L1Loss()` and an optimizer like `torch.optim.SGD()` wil sufficce.\n",
        "\n",
        "But for a classification problem like classifying whether a photo is of a dog or a cat, you'll likely want to use a loss function of `nn.BCELoss()` (binary cross entropy loss)."
      ],
      "metadata": {
        "id": "Ubj4sIpx4XHd"
      }
    },
    {
      "cell_type": "code",
      "source": [
        "import numpy as np\n",
        "# Plot the loss curves\n",
        "plt.plot(epoch_count, np.array(torch.tensor(loss_values).numpy()), label=\"Train loss\")\n",
        "plt.plot(epoch_count, test_loss_values, label=\"Test loss\")\n",
        "plt.title(\"training and test loss curves\")\n",
        "plt.ylabel(\"Loss\")\n",
        "plt.xlabel(\"Epochs\")\n",
        "plt.legend()"
      ],
      "metadata": {
        "colab": {
          "base_uri": "https://localhost:8080/",
          "height": 489
        },
        "id": "2VlJlolpTR86",
        "outputId": "05df7619-c666-488d-e118-0a73cfafa47f"
      },
      "execution_count": 25,
      "outputs": [
        {
          "output_type": "execute_result",
          "data": {
            "text/plain": [
              "<matplotlib.legend.Legend at 0x7f14170d31f0>"
            ]
          },
          "metadata": {},
          "execution_count": 25
        },
        {
          "output_type": "display_data",
          "data": {
            "text/plain": [
              "<Figure size 640x480 with 1 Axes>"
            ],
            "image/png": "[encoded data removed]"
          },
          "metadata": {}
        }
      ]
    },
    {
      "cell_type": "code",
      "source": [
        "model_0.state_dict() # prediction"
      ],
      "metadata": {
        "colab": {
          "base_uri": "https://localhost:8080/"
        },
        "id": "wqLgrxJoERbH",
        "outputId": "bc40bc04-a3fb-4403-9bef-f22289e69bad"
      },
      "execution_count": 26,
      "outputs": [
        {
          "output_type": "execute_result",
          "data": {
            "text/plain": [
              "OrderedDict([('weights', tensor([0.7097])), ('bias', tensor([0.3054]))])"
            ]
          },
          "metadata": {},
          "execution_count": 26
        }
      ]
    },
    {
      "cell_type": "code",
      "source": [
        "weight, bias # target"
      ],
      "metadata": {
        "colab": {
          "base_uri": "https://localhost:8080/"
        },
        "id": "zzIjGyxpES6v",
        "outputId": "13c64aa3-0c4d-47fb-ee1d-3c62821a43c2"
      },
      "execution_count": 27,
      "outputs": [
        {
          "output_type": "execute_result",
          "data": {
            "text/plain": [
              "(0.7, 0.3)"
            ]
          },
          "metadata": {},
          "execution_count": 27
        }
      ]
    },
    {
      "cell_type": "code",
      "source": [
        "# Make some predictions\n",
        "with torch.inference_mode():\n",
        "  y_preds_new = model_0(X_test)"
      ],
      "metadata": {
        "id": "JkJyWurdHvLC"
      },
      "execution_count": 28,
      "outputs": []
    },
    {
      "cell_type": "code",
      "source": [
        "plot_predictions(predictions=y_preds)"
      ],
      "metadata": {
        "colab": {
          "base_uri": "https://localhost:8080/",
          "height": 460
        },
        "id": "7nJqVnb2QzJ6",
        "outputId": "c5607573-e81b-42cc-d263-f0e07ae5de33"
      },
      "execution_count": 29,
      "outputs": [
        {
          "output_type": "display_data",
          "data": {
            "text/plain": [
              "<Figure size 1000x700 with 1 Axes>"
            ],
            "image/png": "[encoded data removed]"
          },
          "metadata": {}
        }
      ]
    },
    {
      "cell_type": "code",
      "source": [
        "plot_predictions(predictions=y_preds_new)"
      ],
      "metadata": {
        "colab": {
          "base_uri": "https://localhost:8080/",
          "height": 460
        },
        "id": "TSi8d5GfP4Ej",
        "outputId": "c76b0b20-3ea6-41ac-c144-cd2447e51c5d"
      },
      "execution_count": 30,
      "outputs": [
        {
          "output_type": "display_data",
          "data": {
            "text/plain": [
              "<Figure size 1000x700 with 1 Axes>"
            ],
            "image/png": "[encoded data removed]"
          },
          "metadata": {}
        }
      ]
    },
    {
      "cell_type": "markdown",
      "source": [
        "## Saving a model in PyTorch\n",
        "\n",
        "There are three main methods you should know about saving and loading models in PyTorch.\n",
        "\n",
        "1. `torch.save()` - allows you save a PyTorch object in Python's pickle format\n",
        "2. `torch.load()` - allows you load a saved PyTorch object\n",
        "3. `torch.nn.Module.load_state_dict()`"
      ],
      "metadata": {
        "id": "ruJDr7IwQBOC"
      }
    },
    {
      "cell_type": "code",
      "source": [
        "# Saving our PyTorch model\n",
        "from pathlib import Path\n",
        "\n",
        "# 1. Create a model directory\n",
        "MODEL_PATH = Path(\"models\")\n",
        "MODEL_PATH.mkdir(parents=True, exist_ok=True)\n",
        "\n",
        "# 2. Create model svae path\n",
        "MODEL_NAME = \"01_pytorch_workflow_model_0.pth\" #.pt or .pth\n",
        "MODEL_SAVE_PATH = MODEL_PATH / MODEL_NAME\n",
        "\n",
        "# 3. Save the model state dict\n",
        "print(f\"Saving model to : {MODEL_SAVE_PATH}\")\n",
        "torch.save(obj=model_0.state_dict(),\n",
        "           f=MODEL_SAVE_PATH)"
      ],
      "metadata": {
        "id": "G29BPGG9amGW",
        "colab": {
          "base_uri": "https://localhost:8080/"
        },
        "outputId": "885f8759-e3da-4272-9dc3-eb24e1592e7c"
      },
      "execution_count": 31,
      "outputs": [
        {
          "output_type": "stream",
          "name": "stdout",
          "text": [
            "Saving model to : models/01_pytorch_workflow_model_0.pth\n"
          ]
        }
      ]
    },
    {
      "cell_type": "code",
      "source": [
        "!ls -l models"
      ],
      "metadata": {
        "colab": {
          "base_uri": "https://localhost:8080/"
        },
        "id": "5jUCdbjse8IA",
        "outputId": "6df7201a-6b63-4e66-cb34-4f227b777c07"
      },
      "execution_count": 32,
      "outputs": [
        {
          "output_type": "stream",
          "name": "stdout",
          "text": [
            "total 4\n",
            "-rw-r--r-- 1 root root 1207 May  1 11:05 01_pytorch_workflow_model_0.pth\n"
          ]
        }
      ]
    },
    {
      "cell_type": "markdown",
      "source": [
        "## Loading a PyTorch model\n",
        "\n",
        "Since we saved our model's `state_dict()` rather the entire model, we'll create a new instance of our model class and load the saved state_dict() into that."
      ],
      "metadata": {
        "id": "dM8JG7L4iaHB"
      }
    },
    {
      "cell_type": "code",
      "source": [
        "model_0.state_dict()"
      ],
      "metadata": {
        "colab": {
          "base_uri": "https://localhost:8080/"
        },
        "id": "hwynFbGYjN-D",
        "outputId": "f26b3bbd-9285-43b9-9d9b-dac8f70b4872"
      },
      "execution_count": 33,
      "outputs": [
        {
          "output_type": "execute_result",
          "data": {
            "text/plain": [
              "OrderedDict([('weights', tensor([0.7097])), ('bias', tensor([0.3054]))])"
            ]
          },
          "metadata": {},
          "execution_count": 33
        }
      ]
    },
    {
      "cell_type": "code",
      "source": [
        "# To load in a saved state_dict we have to instantiate a new instance of our model class\n",
        "loaded_model_0 = LinearRegressionModel()\n",
        "\n",
        "# Load the saved state_dict of model_0 (this will update the new instance with updated parameters)\n",
        "loaded_model_0.load_state_dict(torch.load(f=MODEL_SAVE_PATH))"
      ],
      "metadata": {
        "colab": {
          "base_uri": "https://localhost:8080/"
        },
        "id": "waXC7F_yjYwX",
        "outputId": "f57f5aa8-3c19-40c0-a2ea-f74bfae050b7"
      },
      "execution_count": 34,
      "outputs": [
        {
          "output_type": "execute_result",
          "data": {
            "text/plain": [
              "<All keys matched successfully>"
            ]
          },
          "metadata": {},
          "execution_count": 34
        }
      ]
    },
    {
      "cell_type": "code",
      "source": [
        "loaded_model_0.state_dict()"
      ],
      "metadata": {
        "colab": {
          "base_uri": "https://localhost:8080/"
        },
        "id": "S8ZniTBpj_Su",
        "outputId": "ed2b68ba-81d6-4917-c51a-6572732d3020"
      },
      "execution_count": 35,
      "outputs": [
        {
          "output_type": "execute_result",
          "data": {
            "text/plain": [
              "OrderedDict([('weights', tensor([0.7097])), ('bias', tensor([0.3054]))])"
            ]
          },
          "metadata": {},
          "execution_count": 35
        }
      ]
    },
    {
      "cell_type": "code",
      "source": [
        "# Make some predictions with our loaded model\n",
        "loaded_model_0.eval()\n",
        "\n",
        "with torch.inference_mode():\n",
        "  loaded_model_preds = loaded_model_0(X_test)\n",
        "\n",
        "loaded_model_preds"
      ],
      "metadata": {
        "colab": {
          "base_uri": "https://localhost:8080/"
        },
        "id": "1wXPvDFikFt-",
        "outputId": "16b5ba6b-2afa-43b9-d7ef-74e30d73cabc"
      },
      "execution_count": 36,
      "outputs": [
        {
          "output_type": "execute_result",
          "data": {
            "text/plain": [
              "tensor([[0.8732],\n",
              "        [0.8873],\n",
              "        [0.9015],\n",
              "        [0.9157],\n",
              "        [0.9299],\n",
              "        [0.9441],\n",
              "        [0.9583],\n",
              "        [0.9725],\n",
              "        [0.9867],\n",
              "        [1.0009]])"
            ]
          },
          "metadata": {},
          "execution_count": 36
        }
      ]
    },
    {
      "cell_type": "code",
      "source": [
        "# Make some models preds\n",
        "model_0.eval()\n",
        "\n",
        "with torch.inference_mode():\n",
        "  y_preds = model_0(X_test)"
      ],
      "metadata": {
        "id": "wpW36Jgyk1Hv"
      },
      "execution_count": 37,
      "outputs": []
    },
    {
      "cell_type": "code",
      "source": [
        "# Compare loaded model preds with original model preds\n",
        "y_preds == loaded_model_preds"
      ],
      "metadata": {
        "colab": {
          "base_uri": "https://localhost:8080/"
        },
        "id": "gMS8kR4ckowq",
        "outputId": "07484218-1c01-4139-cea1-e3545628466e"
      },
      "execution_count": 38,
      "outputs": [
        {
          "output_type": "execute_result",
          "data": {
            "text/plain": [
              "tensor([[True],\n",
              "        [True],\n",
              "        [True],\n",
              "        [True],\n",
              "        [True],\n",
              "        [True],\n",
              "        [True],\n",
              "        [True],\n",
              "        [True],\n",
              "        [True]])"
            ]
          },
          "metadata": {},
          "execution_count": 38
        }
      ]
    },
    {
      "cell_type": "markdown",
      "source": [
        "## 6. Putting it all together\n",
        "\n",
        "Let's go back through the steps above and see it all in one place."
      ],
      "metadata": {
        "id": "4XCyzlTPldgm"
      }
    },
    {
      "cell_type": "code",
      "source": [
        "# Import PyTorch and matplotlib\n",
        "import torch\n",
        "from torch import nn\n",
        "import matplotlib.pyplot as plt\n",
        "\n",
        "# Check PyTorch version\n",
        "torch.__version__"
      ],
      "metadata": {
        "colab": {
          "base_uri": "https://localhost:8080/",
          "height": 35
        },
        "id": "tOraMRXDlkmh",
        "outputId": "1a052fa3-9ca1-42f2-fef6-90c7e14a230a"
      },
      "execution_count": 39,
      "outputs": [
        {
          "output_type": "execute_result",
          "data": {
            "text/plain": [
              "'2.0.0+cu118'"
            ],
            "application/vnd.google.colaboratory.intrinsic+json": {
              "type": "string"
            }
          },
          "metadata": {},
          "execution_count": 39
        }
      ]
    },
    {
      "cell_type": "markdown",
      "source": [
        "Create device-agnostic code.\n",
        "\n",
        "This means if we've got access to GPU, our code will use it (for potentially faster computing).\n",
        "\n",
        "If no GPU is available, the code will default to using CPU."
      ],
      "metadata": {
        "id": "s1mAcUnymAWR"
      }
    },
    {
      "cell_type": "code",
      "source": [
        "# Setup device agnostic code\n",
        "# cuda is NVIDIA's programming framework for their gpu\n",
        "device = \"cuda\" if torch.cuda.is_available() else \"cpu\"\n",
        "print(f\"Using device: {device}\")"
      ],
      "metadata": {
        "colab": {
          "base_uri": "https://localhost:8080/"
        },
        "id": "NK_6jI8QnUYb",
        "outputId": "ff7eaa2d-9372-4d3a-bfa4-a1e4f02c532b"
      },
      "execution_count": 40,
      "outputs": [
        {
          "output_type": "stream",
          "name": "stdout",
          "text": [
            "Using device: cuda\n"
          ]
        }
      ]
    },
    {
      "cell_type": "code",
      "source": [
        "!nvidia-smi"
      ],
      "metadata": {
        "colab": {
          "base_uri": "https://localhost:8080/"
        },
        "id": "PNliUG_Hn3TC",
        "outputId": "f0d275f2-9bbd-4f84-cb27-b8e793f1e76e"
      },
      "execution_count": 41,
      "outputs": [
        {
          "output_type": "stream",
          "name": "stdout",
          "text": [
            "Mon May  1 11:05:38 2023       \n",
            "+-----------------------------------------------------------------------------+\n",
            "| NVIDIA-SMI 525.85.12    Driver Version: 525.85.12    CUDA Version: 12.0     |\n",
            "|-------------------------------+----------------------+----------------------+\n",
            "| GPU  Name        Persistence-M| Bus-Id        Disp.A | Volatile Uncorr. ECC |\n",
            "| Fan  Temp  Perf  Pwr:Usage/Cap|         Memory-Usage | GPU-Util  Compute M. |\n",
            "|                               |                      |               MIG M. |\n",
            "|===============================+======================+======================|\n",
            "|   0  Tesla T4            Off  | 00000000:00:04.0 Off |                    0 |\n",
            "| N/A   36C    P8     9W /  70W |      3MiB / 15360MiB |      0%      Default |\n",
            "|                               |                      |                  N/A |\n",
            "+-------------------------------+----------------------+----------------------+\n",
            "                                                                               \n",
            "+-----------------------------------------------------------------------------+\n",
            "| Processes:                                                                  |\n",
            "|  GPU   GI   CI        PID   Type   Process name                  GPU Memory |\n",
            "|        ID   ID                                                   Usage      |\n",
            "|=============================================================================|\n",
            "|  No running processes found                                                 |\n",
            "+-----------------------------------------------------------------------------+\n"
          ]
        }
      ]
    },
    {
      "cell_type": "markdown",
      "source": [
        "### 6.1 Data\n"
      ],
      "metadata": {
        "id": "si1uO0llmNys"
      }
    },
    {
      "cell_type": "code",
      "source": [
        "# Create some data using the linear regression formula of y = weight * X + bias\n",
        "weight = 0.7\n",
        "bias = 0.3\n",
        "\n",
        "# Create range values\n",
        "start = 0\n",
        "end = 1\n",
        "step = 0.02\n",
        "\n",
        "# Create X and y (features and labels)\n",
        "X = torch.arange(start, end, step).unsqueeze(dim= 1) # add 1 dimension, dim = 1 means 'add 1 at column', without unsqueeze, errors will pop up\n",
        "y = weight * X + bias\n",
        "X[:10], y[:10]"
      ],
      "metadata": {
        "colab": {
          "base_uri": "https://localhost:8080/"
        },
        "id": "tyo1S9lNoDSB",
        "outputId": "67a5168f-8a65-4677-f41b-1bf426909516"
      },
      "execution_count": 42,
      "outputs": [
        {
          "output_type": "execute_result",
          "data": {
            "text/plain": [
              "(tensor([[0.0000],\n",
              "         [0.0200],\n",
              "         [0.0400],\n",
              "         [0.0600],\n",
              "         [0.0800],\n",
              "         [0.1000],\n",
              "         [0.1200],\n",
              "         [0.1400],\n",
              "         [0.1600],\n",
              "         [0.1800]]),\n",
              " tensor([[0.3000],\n",
              "         [0.3140],\n",
              "         [0.3280],\n",
              "         [0.3420],\n",
              "         [0.3560],\n",
              "         [0.3700],\n",
              "         [0.3840],\n",
              "         [0.3980],\n",
              "         [0.4120],\n",
              "         [0.4260]]))"
            ]
          },
          "metadata": {},
          "execution_count": 42
        }
      ]
    },
    {
      "cell_type": "code",
      "source": [
        "# Split data\n",
        "# take 80 % of data as training\n",
        "train_split = int(0.8 * len(X))\n",
        "X_train, y_train = X[:train_split], y[:train_split]\n",
        "X_test, y_test = X[train_split:], y[train_split:]\n",
        "len(X_train), len(y_train), len(X_test), len(y_test)"
      ],
      "metadata": {
        "colab": {
          "base_uri": "https://localhost:8080/"
        },
        "id": "0VQPNYUQqohD",
        "outputId": "e70f7207-74f9-49af-8ba5-3c14b5bc0e75"
      },
      "execution_count": 43,
      "outputs": [
        {
          "output_type": "execute_result",
          "data": {
            "text/plain": [
              "(40, 40, 10, 10)"
            ]
          },
          "metadata": {},
          "execution_count": 43
        }
      ]
    },
    {
      "cell_type": "code",
      "source": [
        "# Plot the data\n",
        "# Note : if you don't have the plot_predictions() function loaded, this will run error\n",
        "plot_predictions(X_train, y_train, X_test, y_test)"
      ],
      "metadata": {
        "colab": {
          "base_uri": "https://localhost:8080/",
          "height": 460
        },
        "id": "7uh8qDFzrIiv",
        "outputId": "7c4ea57f-9455-45bd-b924-c066d4b42805"
      },
      "execution_count": 44,
      "outputs": [
        {
          "output_type": "display_data",
          "data": {
            "text/plain": [
              "<Figure size 1000x700 with 1 Axes>"
            ],
            "image/png": "[encoded data removed]"
          },
          "metadata": {}
        }
      ]
    },
    {
      "cell_type": "markdown",
      "source": [
        "### 6.2 Building a PyTorch Linear Model"
      ],
      "metadata": {
        "id": "SUcSdZ9irWj-"
      }
    },
    {
      "cell_type": "code",
      "source": [
        "# Create a linear model by subclassing nn.Module\n",
        "class LinearRegressionModelV2(nn.Module):\n",
        "  def __init__(self):\n",
        "    super().__init__()\n",
        "    # you do not need to initialize weights and biases randomlly\n",
        "    # you just need to create a layer in which weights and biases are automatically initialized\n",
        "    # all you need to do is to know which model shall be used for the particular input\n",
        "    # Use nn.Linear() for creating the model parameters \n",
        "    # nn.Linear uses y = x * Tranpose(A) + b\n",
        "    # also called : linear layer, linear transform, probing layer, fully connected layer, dense layer\n",
        "    self.linear_layer = nn.Linear(in_features=1, # input size 1 :  X_train or X_test\n",
        "                                  out_features=1) # output size 1 : y_train or y_test\n",
        "\n",
        "  def forward(self, x:torch.Tensor)->torch.Tensor:\n",
        "    return self.linear_layer(x)\n",
        "\n",
        "# Set the manual seed\n",
        "torch.manual_seed(42)\n",
        "model_1 = LinearRegressionModelV2()\n",
        "# Check model and its parameters\n",
        "model_1, model_1.state_dict()"
      ],
      "metadata": {
        "colab": {
          "base_uri": "https://localhost:8080/"
        },
        "id": "q8TIfA_ZroNr",
        "outputId": "c0b84182-43cf-449b-d3d2-3bdce507cd21"
      },
      "execution_count": 45,
      "outputs": [
        {
          "output_type": "execute_result",
          "data": {
            "text/plain": [
              "(LinearRegressionModelV2(\n",
              "   (linear_layer): Linear(in_features=1, out_features=1, bias=True)\n",
              " ),\n",
              " OrderedDict([('linear_layer.weight', tensor([[0.7645]])),\n",
              "              ('linear_layer.bias', tensor([0.8300]))]))"
            ]
          },
          "metadata": {},
          "execution_count": 45
        }
      ]
    },
    {
      "cell_type": "code",
      "source": [
        "# Check the model current device\n",
        "next(model_1.parameters()).device"
      ],
      "metadata": {
        "colab": {
          "base_uri": "https://localhost:8080/"
        },
        "id": "wA36mVh4u0Y1",
        "outputId": "5c917976-5dcc-46d8-d2cb-67ef00b1bf0f"
      },
      "execution_count": 46,
      "outputs": [
        {
          "output_type": "execute_result",
          "data": {
            "text/plain": [
              "device(type='cpu')"
            ]
          },
          "metadata": {},
          "execution_count": 46
        }
      ]
    },
    {
      "cell_type": "code",
      "source": [
        "# Set the model to use the target device\n",
        "model_1.to(device)\n",
        "next(model_1.parameters()).device"
      ],
      "metadata": {
        "colab": {
          "base_uri": "https://localhost:8080/"
        },
        "id": "tC740RkCt16b",
        "outputId": "5afac577-ad1d-45b1-9137-d7ed033ba9ed"
      },
      "execution_count": 47,
      "outputs": [
        {
          "output_type": "execute_result",
          "data": {
            "text/plain": [
              "device(type='cuda', index=0)"
            ]
          },
          "metadata": {},
          "execution_count": 47
        }
      ]
    },
    {
      "cell_type": "markdown",
      "source": [
        "### 6.3 Training\n",
        "\n",
        "For training we need:\n",
        "* Loss function\n",
        "* Optimizer\n",
        "* Training loop\n",
        "* Testing loop"
      ],
      "metadata": {
        "id": "3bWKbQiGu-qf"
      }
    },
    {
      "cell_type": "code",
      "source": [
        "# Setup loss function\n",
        "loss_fn = nn.L1Loss() # same as MAE\n",
        "\n",
        "# Setup our optimizer\n",
        "optimizer = torch.optim.SGD(params=model_1.parameters(),\n",
        "                            lr=0.01)"
      ],
      "metadata": {
        "id": "0-igrIgsvVK5"
      },
      "execution_count": 48,
      "outputs": []
    },
    {
      "cell_type": "code",
      "source": [
        "# Let's write a training loop\n",
        "torch.manual_seed(42)\n",
        "\n",
        "epochs = 200\n",
        "\n",
        "# Put data on the target device (device agnostic code for data)\n",
        "X_train = X_train.to(device)\n",
        "y_train = y_train.to(device)\n",
        "X_test = X_test.to(device)\n",
        "y_test = y_test.to(device)\n",
        "\n",
        "for epoch in range(epochs):\n",
        "  model_1.train()\n",
        "\n",
        "  # 1. Forward pass\n",
        "  y_pred = model_1(X_train)\n",
        "\n",
        "  # 2. Calculate the loss\n",
        "  loss = loss_fn(y_pred, y_train)\n",
        "\n",
        "  # 3. Optimizer zero grad\n",
        "  optimizer.zero_grad()\n",
        "\n",
        "  # 4. Perfrom backpropagation\n",
        "  loss.backward()\n",
        "\n",
        "  # 5. Optimizer step\n",
        "  optimizer.step()\n",
        "\n",
        "  ### Testing \n",
        "  model_1.eval()\n",
        "  with torch.inference_mode():\n",
        "    test_pred = model_1(X_test)\n",
        "\n",
        "    test_loss = loss_fn(test_pred, y_test)\n",
        "\n",
        "  # Print out what's happening\n",
        "\n",
        "  if epoch % 10 == 0:\n",
        "    print(f\"Epoch: {epoch} | Loss: {loss} | Test loss : {test_loss}\")"
      ],
      "metadata": {
        "colab": {
          "base_uri": "https://localhost:8080/"
        },
        "id": "lVHu3jkhwbwD",
        "outputId": "1281ffe2-661a-49a4-8cce-4c07ead7a5c1"
      },
      "execution_count": 49,
      "outputs": [
        {
          "output_type": "stream",
          "name": "stdout",
          "text": [
            "Epoch: 0 | Loss: 0.5551779866218567 | Test loss : 0.5739762187004089\n",
            "Epoch: 10 | Loss: 0.439968079328537 | Test loss : 0.4392664134502411\n",
            "Epoch: 20 | Loss: 0.3247582018375397 | Test loss : 0.30455657839775085\n",
            "Epoch: 30 | Loss: 0.20954833924770355 | Test loss : 0.16984669864177704\n",
            "Epoch: 40 | Loss: 0.09433845430612564 | Test loss : 0.03513690456748009\n",
            "Epoch: 50 | Loss: 0.023886388167738914 | Test loss : 0.04784907028079033\n",
            "Epoch: 60 | Loss: 0.019956795498728752 | Test loss : 0.045803118497133255\n",
            "Epoch: 70 | Loss: 0.016517987474799156 | Test loss : 0.037530567497015\n",
            "Epoch: 80 | Loss: 0.013089174404740334 | Test loss : 0.02994490973651409\n",
            "Epoch: 90 | Loss: 0.009653178043663502 | Test loss : 0.02167237363755703\n",
            "Epoch: 100 | Loss: 0.006215683650225401 | Test loss : 0.014086711220443249\n",
            "Epoch: 110 | Loss: 0.00278724217787385 | Test loss : 0.005814164876937866\n",
            "Epoch: 120 | Loss: 0.0012645035749301314 | Test loss : 0.013801801018416882\n",
            "Epoch: 130 | Loss: 0.0012645035749301314 | Test loss : 0.013801801018416882\n",
            "Epoch: 140 | Loss: 0.0012645035749301314 | Test loss : 0.013801801018416882\n",
            "Epoch: 150 | Loss: 0.0012645035749301314 | Test loss : 0.013801801018416882\n",
            "Epoch: 160 | Loss: 0.0012645035749301314 | Test loss : 0.013801801018416882\n",
            "Epoch: 170 | Loss: 0.0012645035749301314 | Test loss : 0.013801801018416882\n",
            "Epoch: 180 | Loss: 0.0012645035749301314 | Test loss : 0.013801801018416882\n",
            "Epoch: 190 | Loss: 0.0012645035749301314 | Test loss : 0.013801801018416882\n"
          ]
        }
      ]
    },
    {
      "cell_type": "code",
      "source": [
        "model_1.state_dict()"
      ],
      "metadata": {
        "colab": {
          "base_uri": "https://localhost:8080/"
        },
        "id": "MKzgXdv-x_Vq",
        "outputId": "b82e1153-b97c-42ee-a28c-df3d4f626189"
      },
      "execution_count": 50,
      "outputs": [
        {
          "output_type": "execute_result",
          "data": {
            "text/plain": [
              "OrderedDict([('linear_layer.weight', tensor([[0.6968]], device='cuda:0')),\n",
              "             ('linear_layer.bias', tensor([0.3025], device='cuda:0'))])"
            ]
          },
          "metadata": {},
          "execution_count": 50
        }
      ]
    },
    {
      "cell_type": "code",
      "source": [
        "weight, bias"
      ],
      "metadata": {
        "colab": {
          "base_uri": "https://localhost:8080/"
        },
        "id": "EYaLFShmyh-T",
        "outputId": "cef0fa98-88a5-437d-8e59-8c1e6955ab9e"
      },
      "execution_count": 51,
      "outputs": [
        {
          "output_type": "execute_result",
          "data": {
            "text/plain": [
              "(0.7, 0.3)"
            ]
          },
          "metadata": {},
          "execution_count": 51
        }
      ]
    },
    {
      "cell_type": "markdown",
      "source": [
        "### 6.4 Making and evaluating predictions"
      ],
      "metadata": {
        "id": "nZj7J4EhykAI"
      }
    },
    {
      "cell_type": "code",
      "source": [
        "# Turn model into evaluation mode\n",
        "model_1.eval()\n",
        "\n",
        "# Make predictions on the test data\n",
        "with torch.inference_mode():\n",
        "  y_preds = model_1(X_test)\n",
        "\n",
        "y_preds"
      ],
      "metadata": {
        "colab": {
          "base_uri": "https://localhost:8080/"
        },
        "id": "xhM3lJfe_hcQ",
        "outputId": "f728e9bd-e9c8-4b9b-f62a-f88f76adc115"
      },
      "execution_count": 52,
      "outputs": [
        {
          "output_type": "execute_result",
          "data": {
            "text/plain": [
              "tensor([[0.8600],\n",
              "        [0.8739],\n",
              "        [0.8878],\n",
              "        [0.9018],\n",
              "        [0.9157],\n",
              "        [0.9296],\n",
              "        [0.9436],\n",
              "        [0.9575],\n",
              "        [0.9714],\n",
              "        [0.9854]], device='cuda:0')"
            ]
          },
          "metadata": {},
          "execution_count": 52
        }
      ]
    },
    {
      "cell_type": "code",
      "source": [
        "# Chek out our model predictions visually\n",
        "plot_predictions(predictions=y_preds.cpu()) # matplotlib is on cpu as it is based on numpy"
      ],
      "metadata": {
        "colab": {
          "base_uri": "https://localhost:8080/",
          "height": 460
        },
        "id": "aZDJ4kTo_tlz",
        "outputId": "74c1893f-6c24-4628-a245-c329f2eca078"
      },
      "execution_count": 55,
      "outputs": [
        {
          "output_type": "display_data",
          "data": {
            "text/plain": [
              "<Figure size 1000x700 with 1 Axes>"
            ],
            "image/png": "[encoded data removed]"
          },
          "metadata": {}
        }
      ]
    },
    {
      "cell_type": "markdown",
      "source": [
        "### 6.5 Saving & loading a trained model "
      ],
      "metadata": {
        "id": "q9gr2sEU_1ry"
      }
    },
    {
      "cell_type": "code",
      "source": [
        "from pathlib import Path\n",
        "\n",
        "# 1. Create models directory\n",
        "MODEL_PATH = Path(\"models\")\n",
        "MODEL_PATH.mkdir(parents=True, exist_ok=True)\n",
        "\n",
        "# 2. Create model save path\n",
        "MODEL_NAME = \"01_pytorch_workflow_model_1.pth\"\n",
        "MODEL_SAVE_PATH = MODEL_PATH / MODEL_NAME\n",
        "\n",
        "# 3. Save the model stat dict\n",
        "print(f\"Saving model to : {MODEL_SAVE_PATH}\")\n",
        "torch.save(obj=model_1.state_dict(),\n",
        "           f=MODEL_SAVE_PATH)"
      ],
      "metadata": {
        "colab": {
          "base_uri": "https://localhost:8080/"
        },
        "id": "QLar1xj-AWvN",
        "outputId": "dd79b23d-7eef-463b-dc07-186476a652ca"
      },
      "execution_count": 60,
      "outputs": [
        {
          "output_type": "stream",
          "name": "stdout",
          "text": [
            "Saving model to : models/01_pytorch_workflow_model_1.pth\n"
          ]
        }
      ]
    },
    {
      "cell_type": "code",
      "source": [
        "model_1.state_dict()"
      ],
      "metadata": {
        "colab": {
          "base_uri": "https://localhost:8080/"
        },
        "id": "CQi-cYpaA9d_",
        "outputId": "39ca5b8d-a3f8-4340-ba7f-424b0a7dccc8"
      },
      "execution_count": 61,
      "outputs": [
        {
          "output_type": "execute_result",
          "data": {
            "text/plain": [
              "OrderedDict([('linear_layer.weight', tensor([[0.6968]], device='cuda:0')),\n",
              "             ('linear_layer.bias', tensor([0.3025], device='cuda:0'))])"
            ]
          },
          "metadata": {},
          "execution_count": 61
        }
      ]
    },
    {
      "cell_type": "code",
      "source": [
        "# Load a PyTorch model\n",
        "\n",
        "# Create a new instance of linear regression model V2\n",
        "loaded_model_1 = LinearRegressionModelV2()\n",
        "\n",
        "# Load the saved model_1 state_dict\n",
        "loaded_model_1.load_state_dict(torch.load(MODEL_SAVE_PATH))\n",
        "\n",
        "# Put the loaded model to device\n",
        "loaded_model_1.to(device)"
      ],
      "metadata": {
        "colab": {
          "base_uri": "https://localhost:8080/"
        },
        "id": "pUOfMLqMBkQK",
        "outputId": "4042f118-c64e-4493-f60d-20655e06abfe"
      },
      "execution_count": 62,
      "outputs": [
        {
          "output_type": "execute_result",
          "data": {
            "text/plain": [
              "LinearRegressionModelV2(\n",
              "  (linear_layer): Linear(in_features=1, out_features=1, bias=True)\n",
              ")"
            ]
          },
          "metadata": {},
          "execution_count": 62
        }
      ]
    },
    {
      "cell_type": "code",
      "source": [
        "next(loaded_model_1.parameters()).device"
      ],
      "metadata": {
        "colab": {
          "base_uri": "https://localhost:8080/"
        },
        "id": "rvSmHlvNCTy0",
        "outputId": "3db3f566-8cb3-43ff-ee71-587b43e76d87"
      },
      "execution_count": 65,
      "outputs": [
        {
          "output_type": "execute_result",
          "data": {
            "text/plain": [
              "device(type='cuda', index=0)"
            ]
          },
          "metadata": {},
          "execution_count": 65
        }
      ]
    },
    {
      "cell_type": "code",
      "source": [
        "loaded_model_1.state_dict()"
      ],
      "metadata": {
        "colab": {
          "base_uri": "https://localhost:8080/"
        },
        "id": "u5Znegc7CZwm",
        "outputId": "8cd46f37-a77e-4e08-9c27-ddcc658ef8dc"
      },
      "execution_count": 66,
      "outputs": [
        {
          "output_type": "execute_result",
          "data": {
            "text/plain": [
              "OrderedDict([('linear_layer.weight', tensor([[0.6968]], device='cuda:0')),\n",
              "             ('linear_layer.bias', tensor([0.3025], device='cuda:0'))])"
            ]
          },
          "metadata": {},
          "execution_count": 66
        }
      ]
    },
    {
      "cell_type": "code",
      "source": [
        "# Evaluate loaded model\n",
        "loaded_model_1.eval()\n",
        "with torch.inference_mode():\n",
        "  loaded_model_1_preds = loaded_model_1(X_test)\n",
        "\n",
        "y_preds == loaded_model_1_preds"
      ],
      "metadata": {
        "colab": {
          "base_uri": "https://localhost:8080/"
        },
        "id": "RziMm-15Co5A",
        "outputId": "e3c8f495-08ee-49a0-cd5a-e0eff13ab051"
      },
      "execution_count": 67,
      "outputs": [
        {
          "output_type": "execute_result",
          "data": {
            "text/plain": [
              "tensor([[True],\n",
              "        [True],\n",
              "        [True],\n",
              "        [True],\n",
              "        [True],\n",
              "        [True],\n",
              "        [True],\n",
              "        [True],\n",
              "        [True],\n",
              "        [True]], device='cuda:0')"
            ]
          },
          "metadata": {},
          "execution_count": 67
        }
      ]
    },
    {
      "cell_type": "markdown",
      "source": [
        "## Exercises & Extra-curriculum\n",
        "\n",
        "https://www.learnpytorch.io/01_pytorch_workflow/#extra-curriculum"
      ],
      "metadata": {
        "id": "iHoCQsB2C4PS"
      }
    }
  ]
}